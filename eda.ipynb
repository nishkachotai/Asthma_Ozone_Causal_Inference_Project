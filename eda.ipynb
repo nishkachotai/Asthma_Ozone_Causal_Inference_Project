{
 "cells": [
  {
   "cell_type": "code",
   "execution_count": 3,
   "id": "1e1b4454",
   "metadata": {},
   "outputs": [],
   "source": [
    "# Imports\n",
    "import numpy as np\n",
    "import pandas as pd\n",
    "import matplotlib.pyplot as plt"
   ]
  },
  {
   "cell_type": "code",
   "execution_count": 4,
   "id": "f0a7a3e7",
   "metadata": {},
   "outputs": [
    {
     "data": {
      "text/html": [
       "<div>\n",
       "<style scoped>\n",
       "    .dataframe tbody tr th:only-of-type {\n",
       "        vertical-align: middle;\n",
       "    }\n",
       "\n",
       "    .dataframe tbody tr th {\n",
       "        vertical-align: top;\n",
       "    }\n",
       "\n",
       "    .dataframe thead th {\n",
       "        text-align: right;\n",
       "    }\n",
       "</style>\n",
       "<table border=\"1\" class=\"dataframe\">\n",
       "  <thead>\n",
       "    <tr style=\"text-align: right;\">\n",
       "      <th></th>\n",
       "      <th>year</th>\n",
       "      <th>title</th>\n",
       "      <th>published_at</th>\n",
       "      <th>updated_at</th>\n",
       "      <th>category</th>\n",
       "      <th>nominee</th>\n",
       "      <th>artist</th>\n",
       "      <th>workers</th>\n",
       "      <th>img</th>\n",
       "      <th>winner</th>\n",
       "    </tr>\n",
       "  </thead>\n",
       "  <tbody>\n",
       "    <tr>\n",
       "      <th>0</th>\n",
       "      <td>2019</td>\n",
       "      <td>62nd Annual GRAMMY Awards  (2019)</td>\n",
       "      <td>2020-05-19T05:10:28-07:00</td>\n",
       "      <td>2020-05-19T05:10:28-07:00</td>\n",
       "      <td>Record Of The Year</td>\n",
       "      <td>Bad Guy</td>\n",
       "      <td>Billie Eilish</td>\n",
       "      <td>Finneas O'Connell, producer; Rob Kinelski &amp; Fi...</td>\n",
       "      <td>https://www.grammy.com/sites/com/files/styles/...</td>\n",
       "      <td>True</td>\n",
       "    </tr>\n",
       "    <tr>\n",
       "      <th>1</th>\n",
       "      <td>2019</td>\n",
       "      <td>62nd Annual GRAMMY Awards  (2019)</td>\n",
       "      <td>2020-05-19T05:10:28-07:00</td>\n",
       "      <td>2020-05-19T05:10:28-07:00</td>\n",
       "      <td>Record Of The Year</td>\n",
       "      <td>Hey, Ma</td>\n",
       "      <td>Bon Iver</td>\n",
       "      <td>BJ Burton, Brad Cook, Chris Messina &amp; Justin V...</td>\n",
       "      <td>https://www.grammy.com/sites/com/files/styles/...</td>\n",
       "      <td>True</td>\n",
       "    </tr>\n",
       "    <tr>\n",
       "      <th>2</th>\n",
       "      <td>2019</td>\n",
       "      <td>62nd Annual GRAMMY Awards  (2019)</td>\n",
       "      <td>2020-05-19T05:10:28-07:00</td>\n",
       "      <td>2020-05-19T05:10:28-07:00</td>\n",
       "      <td>Record Of The Year</td>\n",
       "      <td>7 rings</td>\n",
       "      <td>Ariana Grande</td>\n",
       "      <td>Charles Anderson, Tommy Brown, Michael Foster ...</td>\n",
       "      <td>https://www.grammy.com/sites/com/files/styles/...</td>\n",
       "      <td>True</td>\n",
       "    </tr>\n",
       "    <tr>\n",
       "      <th>3</th>\n",
       "      <td>2019</td>\n",
       "      <td>62nd Annual GRAMMY Awards  (2019)</td>\n",
       "      <td>2020-05-19T05:10:28-07:00</td>\n",
       "      <td>2020-05-19T05:10:28-07:00</td>\n",
       "      <td>Record Of The Year</td>\n",
       "      <td>Hard Place</td>\n",
       "      <td>H.E.R.</td>\n",
       "      <td>Rodney “Darkchild” Jerkins, producer; Joseph H...</td>\n",
       "      <td>https://www.grammy.com/sites/com/files/styles/...</td>\n",
       "      <td>True</td>\n",
       "    </tr>\n",
       "    <tr>\n",
       "      <th>4</th>\n",
       "      <td>2019</td>\n",
       "      <td>62nd Annual GRAMMY Awards  (2019)</td>\n",
       "      <td>2020-05-19T05:10:28-07:00</td>\n",
       "      <td>2020-05-19T05:10:28-07:00</td>\n",
       "      <td>Record Of The Year</td>\n",
       "      <td>Talk</td>\n",
       "      <td>Khalid</td>\n",
       "      <td>Disclosure &amp; Denis Kosiak, producers; Ingmar C...</td>\n",
       "      <td>https://www.grammy.com/sites/com/files/styles/...</td>\n",
       "      <td>True</td>\n",
       "    </tr>\n",
       "  </tbody>\n",
       "</table>\n",
       "</div>"
      ],
      "text/plain": [
       "   year                              title               published_at  \\\n",
       "0  2019  62nd Annual GRAMMY Awards  (2019)  2020-05-19T05:10:28-07:00   \n",
       "1  2019  62nd Annual GRAMMY Awards  (2019)  2020-05-19T05:10:28-07:00   \n",
       "2  2019  62nd Annual GRAMMY Awards  (2019)  2020-05-19T05:10:28-07:00   \n",
       "3  2019  62nd Annual GRAMMY Awards  (2019)  2020-05-19T05:10:28-07:00   \n",
       "4  2019  62nd Annual GRAMMY Awards  (2019)  2020-05-19T05:10:28-07:00   \n",
       "\n",
       "                  updated_at            category     nominee         artist  \\\n",
       "0  2020-05-19T05:10:28-07:00  Record Of The Year     Bad Guy  Billie Eilish   \n",
       "1  2020-05-19T05:10:28-07:00  Record Of The Year     Hey, Ma       Bon Iver   \n",
       "2  2020-05-19T05:10:28-07:00  Record Of The Year     7 rings  Ariana Grande   \n",
       "3  2020-05-19T05:10:28-07:00  Record Of The Year  Hard Place         H.E.R.   \n",
       "4  2020-05-19T05:10:28-07:00  Record Of The Year        Talk         Khalid   \n",
       "\n",
       "                                             workers  \\\n",
       "0  Finneas O'Connell, producer; Rob Kinelski & Fi...   \n",
       "1  BJ Burton, Brad Cook, Chris Messina & Justin V...   \n",
       "2  Charles Anderson, Tommy Brown, Michael Foster ...   \n",
       "3  Rodney “Darkchild” Jerkins, producer; Joseph H...   \n",
       "4  Disclosure & Denis Kosiak, producers; Ingmar C...   \n",
       "\n",
       "                                                 img  winner  \n",
       "0  https://www.grammy.com/sites/com/files/styles/...    True  \n",
       "1  https://www.grammy.com/sites/com/files/styles/...    True  \n",
       "2  https://www.grammy.com/sites/com/files/styles/...    True  \n",
       "3  https://www.grammy.com/sites/com/files/styles/...    True  \n",
       "4  https://www.grammy.com/sites/com/files/styles/...    True  "
      ]
     },
     "execution_count": 4,
     "metadata": {},
     "output_type": "execute_result"
    }
   ],
   "source": [
    "# Import the dataset\n",
    "# Downloaded from: https://www.kaggle.com/datasets/unanimad/grammy-awards\n",
    "df = pd.read_csv('the_grammy_awards_winners.csv')\n",
    "df.head()"
   ]
  },
  {
   "cell_type": "code",
   "execution_count": 5,
   "id": "ab53dff4",
   "metadata": {},
   "outputs": [
    {
     "name": "stdout",
     "output_type": "stream",
     "text": [
      "Columns:\n",
      "year\n",
      "title\n",
      "published_at\n",
      "updated_at\n",
      "category\n",
      "nominee\n",
      "artist\n",
      "workers\n",
      "img\n",
      "winner\n"
     ]
    }
   ],
   "source": [
    "# Get all column names. Can also be accomplished with df.columns but\n",
    "# format is a bit weird, so used a for-loop and print statements\n",
    "print('Columns:')\n",
    "for column in df.columns:\n",
    "    print(column)"
   ]
  },
  {
   "cell_type": "markdown",
   "id": "bc325670",
   "metadata": {},
   "source": [
    "# EDA Summary:\n",
    "## `year`\n",
    "* Range $[1958, 2019]$.\n",
    "* More entries for more recent years.\n",
    "* No `NaN` values.\n",
    "\n",
    "## `title`\n",
    "* Redundant info, should be dropped.\n",
    "\n",
    "## `published_at`\n",
    "* Redundant info, should be dropped.\n",
    "\n",
    "## `updated_at`\n",
    "* Redundant info, should be dropped.\n",
    "\n",
    "## `category`\n",
    "* $638$ unique values\n",
    "* Potentially useful for analysis and data aggregation during preprocessing.\n",
    "\n",
    "## `nominee`\n",
    "* Should be kept, probably the most important column for identification.\n",
    "* 6 `NaN` values, can just drop these rows\n",
    "\n",
    "## `artist`\n",
    "* $38%$ of rows are `NaN` values. Can potentially impute with `workers`?\n",
    "* Should be kept, useful for analysis and data aggregation during preprocessing.\n",
    "\n",
    "## `workers`\n",
    "* **A LOT** of `NaN` values but is fine (explanation in EDA).\n",
    "* Should be kept, can be used for feature engineering during preprocessing (ex: number of workers).\n",
    "\n",
    "## `img`\n",
    "* Useless, should be dropped.\n",
    "\n",
    "## `winner`\n",
    "* Useless *by itself* (entire column of true values). Needs to be combined with supplemental data sets."
   ]
  },
  {
   "cell_type": "markdown",
   "id": "7414f5ed",
   "metadata": {},
   "source": [
    "## `year`"
   ]
  },
  {
   "cell_type": "code",
   "execution_count": 6,
   "id": "4f564dfb",
   "metadata": {},
   "outputs": [
    {
     "data": {
      "text/plain": [
       "array([2019, 2018, 2017, 2016, 2015, 2014, 2013, 2012, 2011, 2010, 2009,\n",
       "       2008, 2007, 2006, 2005, 2004, 2003, 2002, 2001, 2000, 1999, 1998,\n",
       "       1997, 1996, 1995, 1994, 1993, 1992, 1991, 1990, 1989, 1988, 1987,\n",
       "       1986, 1985, 1984, 1983, 1982, 1981, 1980, 1979, 1978, 1977, 1976,\n",
       "       1975, 1974, 1973, 1972, 1971, 1970, 1969, 1968, 1967, 1966, 1965,\n",
       "       1964, 1963, 1962, 1961, 1960, 1959, 1958])"
      ]
     },
     "execution_count": 6,
     "metadata": {},
     "output_type": "execute_result"
    }
   ],
   "source": [
    "# check unique values\n",
    "df['year'].unique()"
   ]
  },
  {
   "cell_type": "code",
   "execution_count": 7,
   "id": "defe2424",
   "metadata": {},
   "outputs": [
    {
     "data": {
      "text/plain": [
       "2019    433\n",
       "2007    111\n",
       "2008    111\n",
       "2006    110\n",
       "2010    109\n",
       "       ... \n",
       "1968     40\n",
       "1962     39\n",
       "1960     39\n",
       "1959     35\n",
       "1958     28\n",
       "Name: year, Length: 62, dtype: int64"
      ]
     },
     "execution_count": 7,
     "metadata": {},
     "output_type": "execute_result"
    }
   ],
   "source": [
    "# check each unique value's count\n",
    "df['year'].value_counts().sort_values(ascending=False)"
   ]
  },
  {
   "cell_type": "code",
   "execution_count": 8,
   "id": "dcda0cb1",
   "metadata": {},
   "outputs": [
    {
     "name": "stdout",
     "output_type": "stream",
     "text": [
      "Number of NaN values: 0\n"
     ]
    }
   ],
   "source": [
    "# check nulls\n",
    "year_nans = sum(df['year'].isnull())\n",
    "print(\"Number of NaN values: {}\".format(year_nans))"
   ]
  },
  {
   "cell_type": "markdown",
   "id": "c625a672",
   "metadata": {},
   "source": [
    "Looks like the data contains information for grammys from 1958 to 2019. From sorting through the data, it appears there are more entries for more recent years, which I guess makes sense. We could consider only keeping rows where `year` $> 2000$.\n",
    "\n",
    "In addition, `year` contains no `NaN` values."
   ]
  },
  {
   "cell_type": "markdown",
   "id": "62b62ee1",
   "metadata": {},
   "source": [
    "## `title`"
   ]
  },
  {
   "cell_type": "code",
   "execution_count": 9,
   "id": "6a5d92fa",
   "metadata": {},
   "outputs": [
    {
     "data": {
      "text/plain": [
       "array(['62nd Annual GRAMMY Awards  (2019)',\n",
       "       '61st Annual GRAMMY Awards  (2018)',\n",
       "       '60th Annual GRAMMY Awards  (2017)',\n",
       "       '59th Annual GRAMMY Awards  (2016)',\n",
       "       '58th Annual GRAMMY Awards  (2015)',\n",
       "       '57th Annual GRAMMY Awards  (2014)',\n",
       "       '56th Annual GRAMMY Awards  (2013)',\n",
       "       '55th Annual GRAMMY Awards  (2012)',\n",
       "       '54th Annual GRAMMY Awards  (2011)',\n",
       "       '53rd Annual GRAMMY Awards  (2010)',\n",
       "       '52nd Annual GRAMMY Awards  (2009)',\n",
       "       '51st Annual GRAMMY Awards  (2008)',\n",
       "       '50th Annual GRAMMY Awards  (2007)',\n",
       "       '49th Annual GRAMMY Awards  (2006)',\n",
       "       '48th Annual GRAMMY Awards  (2005)',\n",
       "       '47th Annual GRAMMY Awards  (2004)',\n",
       "       '46th Annual GRAMMY Awards  (2003)',\n",
       "       '45th Annual GRAMMY Awards  (2002)',\n",
       "       '44th Annual GRAMMY Awards  (2001)',\n",
       "       '43rd Annual GRAMMY Awards  (2000)',\n",
       "       '42nd Annual GRAMMY Awards  (1999)',\n",
       "       '41st Annual GRAMMY Awards  (1998)',\n",
       "       '40th Annual GRAMMY Awards  (1997)',\n",
       "       '39th Annual GRAMMY Awards  (1996)',\n",
       "       '38th Annual GRAMMY Awards  (1995)',\n",
       "       '37th Annual GRAMMY Awards  (1994)',\n",
       "       '36th Annual GRAMMY Awards  (1993)',\n",
       "       '35th Annual GRAMMY Awards  (1992)',\n",
       "       '34th Annual GRAMMY Awards  (1991)',\n",
       "       '33rd Annual GRAMMY Awards  (1990)',\n",
       "       '32nd Annual GRAMMY Awards  (1989)',\n",
       "       '31st Annual GRAMMY Awards  (1988)',\n",
       "       '30th Annual GRAMMY Awards  (1987)',\n",
       "       '29th Annual GRAMMY Awards  (1986)',\n",
       "       '28th Annual GRAMMY Awards  (1985)',\n",
       "       '27th Annual GRAMMY Awards  (1984)',\n",
       "       '26th Annual GRAMMY Awards  (1983)',\n",
       "       '25th Annual GRAMMY Awards  (1982)',\n",
       "       '24th Annual GRAMMY Awards  (1981)',\n",
       "       '23rd Annual GRAMMY Awards  (1980)',\n",
       "       '22nd Annual GRAMMY Awards  (1979)',\n",
       "       '21st Annual GRAMMY Awards  (1978)',\n",
       "       '20th Annual GRAMMY Awards  (1977)',\n",
       "       '19th Annual GRAMMY Awards  (1976)',\n",
       "       '18th Annual GRAMMY Awards  (1975)',\n",
       "       '17th Annual GRAMMY Awards  (1974)',\n",
       "       '16th Annual GRAMMY Awards  (1973)',\n",
       "       '15th Annual GRAMMY Awards  (1972)',\n",
       "       '14th Annual GRAMMY Awards  (1971)',\n",
       "       '13th Annual GRAMMY Awards  (1970)',\n",
       "       '12th Annual GRAMMY Awards  (1969)',\n",
       "       '11th Annual GRAMMY Awards  (1968)',\n",
       "       '10th Annual GRAMMY Awards  (1967)',\n",
       "       '9th Annual GRAMMY Awards  (1966)',\n",
       "       '8th Annual GRAMMY Awards  (1965)',\n",
       "       '7th Annual GRAMMY Awards  (1964)',\n",
       "       '6th Annual GRAMMY Awards  (1963)',\n",
       "       '5th Annual GRAMMY Awards  (1962)',\n",
       "       '4th Annual GRAMMY Awards  (1961)',\n",
       "       '3rd Annual GRAMMY Awards  (1960)',\n",
       "       '2nd Annual GRAMMY Awards  (1959)',\n",
       "       '1st Annual GRAMMY Awards  (1958)'], dtype=object)"
      ]
     },
     "execution_count": 9,
     "metadata": {},
     "output_type": "execute_result"
    }
   ],
   "source": [
    "df['title'].unique()"
   ]
  },
  {
   "cell_type": "markdown",
   "id": "8e1e5695",
   "metadata": {},
   "source": [
    "From looking at the unique values, don't think much information can be gathered here. The `year` column already captures the same amount of information. `title` can probably just be dropped."
   ]
  },
  {
   "cell_type": "markdown",
   "id": "d64261d8",
   "metadata": {},
   "source": [
    "## `published_at` & `updated_at`"
   ]
  },
  {
   "cell_type": "code",
   "execution_count": 10,
   "id": "f2cb1dd0",
   "metadata": {},
   "outputs": [
    {
     "data": {
      "text/plain": [
       "0       2020-05-19T05:10:28-07:00\n",
       "1       2020-05-19T05:10:28-07:00\n",
       "2       2020-05-19T05:10:28-07:00\n",
       "3       2020-05-19T05:10:28-07:00\n",
       "4       2020-05-19T05:10:28-07:00\n",
       "                  ...            \n",
       "4805    2017-11-28T00:03:45-08:00\n",
       "4806    2017-11-28T00:03:45-08:00\n",
       "4807    2017-11-28T00:03:45-08:00\n",
       "4808    2017-11-28T00:03:45-08:00\n",
       "4809    2017-11-28T00:03:45-08:00\n",
       "Name: published_at, Length: 4810, dtype: object"
      ]
     },
     "execution_count": 10,
     "metadata": {},
     "output_type": "execute_result"
    }
   ],
   "source": [
    "df[\"published_at\"]"
   ]
  },
  {
   "cell_type": "code",
   "execution_count": 11,
   "id": "06f11641",
   "metadata": {},
   "outputs": [
    {
     "data": {
      "text/plain": [
       "0       2020-05-19T05:10:28-07:00\n",
       "1       2020-05-19T05:10:28-07:00\n",
       "2       2020-05-19T05:10:28-07:00\n",
       "3       2020-05-19T05:10:28-07:00\n",
       "4       2020-05-19T05:10:28-07:00\n",
       "                  ...            \n",
       "4805    2019-09-10T01:11:09-07:00\n",
       "4806    2019-09-10T01:11:09-07:00\n",
       "4807    2019-09-10T01:11:09-07:00\n",
       "4808    2019-09-10T01:11:09-07:00\n",
       "4809    2019-09-10T01:11:09-07:00\n",
       "Name: updated_at, Length: 4810, dtype: object"
      ]
     },
     "execution_count": 11,
     "metadata": {},
     "output_type": "execute_result"
    }
   ],
   "source": [
    "df['updated_at']"
   ]
  },
  {
   "cell_type": "markdown",
   "id": "122c1223",
   "metadata": {},
   "source": [
    "Similar to the `title` column, the `year` column captures the same information in these two columns. I don't think knowing the exact time (day, month, hour, minute) is going to be useful in our analysis. Both columns can be dropped."
   ]
  },
  {
   "cell_type": "markdown",
   "id": "37ed2c23",
   "metadata": {},
   "source": [
    "## `category`"
   ]
  },
  {
   "cell_type": "code",
   "execution_count": 12,
   "id": "9f43d227",
   "metadata": {},
   "outputs": [
    {
     "data": {
      "text/plain": [
       "Song Of The Year                                                   70\n",
       "Record Of The Year                                                 69\n",
       "Album Of The Year                                                  66\n",
       "Best Opera Recording                                               64\n",
       "Best Album Notes                                                   63\n",
       "                                                                   ..\n",
       "Best Sacred Performance (Musical)                                   1\n",
       "Best Jazz Performance - Small Group Or Soloist With Small Group     1\n",
       "Best Jazz Performance - Large Group Or Soloist With Large Group     1\n",
       "Best Contemporary Vocal Performance By A Group                      1\n",
       "Best Classical Performance - Operatic Or Choral                     1\n",
       "Name: category, Length: 638, dtype: int64"
      ]
     },
     "execution_count": 12,
     "metadata": {},
     "output_type": "execute_result"
    }
   ],
   "source": [
    "df['category'].value_counts()"
   ]
  },
  {
   "cell_type": "markdown",
   "id": "68bdf89d",
   "metadata": {},
   "source": [
    "Contains $638$ unique values, which can be interpreted as \"Grammy Award Categories\" (self-explanatory column name). Definitely could be useful in analysis; being nominated for \"Song Of The Year\" could be used as a predictor for album sales/success."
   ]
  },
  {
   "cell_type": "markdown",
   "id": "039145cb",
   "metadata": {},
   "source": [
    "## `nominee`"
   ]
  },
  {
   "cell_type": "code",
   "execution_count": 13,
   "id": "60fdc634",
   "metadata": {},
   "outputs": [
    {
     "data": {
      "text/plain": [
       "Bridge Over Troubled Water    7\n",
       "Robert Woods                  7\n",
       "Berlioz: Requiem              7\n",
       "Steven Epstein                7\n",
       "David Frost                   6\n",
       "                             ..\n",
       "Push The Button               1\n",
       "The Art Of Romance            1\n",
       "Devils & Dust                 1\n",
       "B.Y.O.B.                      1\n",
       "Virtuoso                      1\n",
       "Name: nominee, Length: 4131, dtype: int64"
      ]
     },
     "execution_count": 13,
     "metadata": {},
     "output_type": "execute_result"
    }
   ],
   "source": [
    "# check unique values and their counts\n",
    "df['nominee'].value_counts()"
   ]
  },
  {
   "cell_type": "markdown",
   "id": "ab1931df",
   "metadata": {},
   "source": [
    "Cell above indicates there are repeat nominations. Regardless, should definitely keep this column as it contains information on *what* was nominated; song, album, performance, etc."
   ]
  },
  {
   "cell_type": "code",
   "execution_count": 14,
   "id": "72b10578",
   "metadata": {},
   "outputs": [
    {
     "name": "stdout",
     "output_type": "stream",
     "text": [
      "Number of NaN values: 6\n"
     ]
    }
   ],
   "source": [
    "# check nulls\n",
    "nominee_nans = sum(df['nominee'].isnull())\n",
    "print(\"Number of NaN values: {}\".format(nominee_nans))"
   ]
  },
  {
   "cell_type": "markdown",
   "id": "6c7d48ab",
   "metadata": {},
   "source": [
    "`nominee` contains $6$ `NaN` values! Taking a closer look at them:"
   ]
  },
  {
   "cell_type": "code",
   "execution_count": 15,
   "id": "0224baf9",
   "metadata": {},
   "outputs": [
    {
     "data": {
      "text/html": [
       "<div>\n",
       "<style scoped>\n",
       "    .dataframe tbody tr th:only-of-type {\n",
       "        vertical-align: middle;\n",
       "    }\n",
       "\n",
       "    .dataframe tbody tr th {\n",
       "        vertical-align: top;\n",
       "    }\n",
       "\n",
       "    .dataframe thead th {\n",
       "        text-align: right;\n",
       "    }\n",
       "</style>\n",
       "<table border=\"1\" class=\"dataframe\">\n",
       "  <thead>\n",
       "    <tr style=\"text-align: right;\">\n",
       "      <th></th>\n",
       "      <th>year</th>\n",
       "      <th>title</th>\n",
       "      <th>published_at</th>\n",
       "      <th>updated_at</th>\n",
       "      <th>category</th>\n",
       "      <th>nominee</th>\n",
       "      <th>artist</th>\n",
       "      <th>workers</th>\n",
       "      <th>img</th>\n",
       "      <th>winner</th>\n",
       "    </tr>\n",
       "  </thead>\n",
       "  <tbody>\n",
       "    <tr>\n",
       "      <th>2261</th>\n",
       "      <td>2000</td>\n",
       "      <td>43rd Annual GRAMMY Awards  (2000)</td>\n",
       "      <td>2017-11-28T00:03:45-08:00</td>\n",
       "      <td>2019-09-10T01:11:09-07:00</td>\n",
       "      <td>Remixer of the Year, Non-Classical</td>\n",
       "      <td>NaN</td>\n",
       "      <td>NaN</td>\n",
       "      <td>NaN</td>\n",
       "      <td>NaN</td>\n",
       "      <td>True</td>\n",
       "    </tr>\n",
       "    <tr>\n",
       "      <th>2359</th>\n",
       "      <td>1999</td>\n",
       "      <td>42nd Annual GRAMMY Awards  (1999)</td>\n",
       "      <td>2017-11-28T00:03:45-08:00</td>\n",
       "      <td>2019-09-10T01:09:02-07:00</td>\n",
       "      <td>Remixer Of The Year, Non-Classical</td>\n",
       "      <td>NaN</td>\n",
       "      <td>NaN</td>\n",
       "      <td>NaN</td>\n",
       "      <td>NaN</td>\n",
       "      <td>True</td>\n",
       "    </tr>\n",
       "    <tr>\n",
       "      <th>2454</th>\n",
       "      <td>1998</td>\n",
       "      <td>41st Annual GRAMMY Awards  (1998)</td>\n",
       "      <td>2017-11-28T00:03:45-08:00</td>\n",
       "      <td>2019-09-10T01:08:19-07:00</td>\n",
       "      <td>Remixer Of The Year, Non-classical</td>\n",
       "      <td>NaN</td>\n",
       "      <td>NaN</td>\n",
       "      <td>NaN</td>\n",
       "      <td>NaN</td>\n",
       "      <td>True</td>\n",
       "    </tr>\n",
       "    <tr>\n",
       "      <th>2547</th>\n",
       "      <td>1997</td>\n",
       "      <td>40th Annual GRAMMY Awards  (1997)</td>\n",
       "      <td>2017-11-28T00:03:45-08:00</td>\n",
       "      <td>2019-09-10T01:07:37-07:00</td>\n",
       "      <td>Remixer Of The Year, Non-Classical</td>\n",
       "      <td>NaN</td>\n",
       "      <td>NaN</td>\n",
       "      <td>NaN</td>\n",
       "      <td>NaN</td>\n",
       "      <td>True</td>\n",
       "    </tr>\n",
       "    <tr>\n",
       "      <th>4525</th>\n",
       "      <td>1965</td>\n",
       "      <td>8th Annual GRAMMY Awards  (1965)</td>\n",
       "      <td>2017-11-28T00:03:45-08:00</td>\n",
       "      <td>2019-09-10T01:06:59-07:00</td>\n",
       "      <td>Best New Country &amp; Western Artist</td>\n",
       "      <td>NaN</td>\n",
       "      <td>NaN</td>\n",
       "      <td>NaN</td>\n",
       "      <td>NaN</td>\n",
       "      <td>True</td>\n",
       "    </tr>\n",
       "    <tr>\n",
       "      <th>4573</th>\n",
       "      <td>1964</td>\n",
       "      <td>7th Annual GRAMMY Awards  (1964)</td>\n",
       "      <td>2017-11-28T00:03:45-08:00</td>\n",
       "      <td>2019-09-10T01:06:11-07:00</td>\n",
       "      <td>Best New Country &amp; Western Artist Of 1964</td>\n",
       "      <td>NaN</td>\n",
       "      <td>NaN</td>\n",
       "      <td>NaN</td>\n",
       "      <td>NaN</td>\n",
       "      <td>True</td>\n",
       "    </tr>\n",
       "  </tbody>\n",
       "</table>\n",
       "</div>"
      ],
      "text/plain": [
       "      year                              title               published_at  \\\n",
       "2261  2000  43rd Annual GRAMMY Awards  (2000)  2017-11-28T00:03:45-08:00   \n",
       "2359  1999  42nd Annual GRAMMY Awards  (1999)  2017-11-28T00:03:45-08:00   \n",
       "2454  1998  41st Annual GRAMMY Awards  (1998)  2017-11-28T00:03:45-08:00   \n",
       "2547  1997  40th Annual GRAMMY Awards  (1997)  2017-11-28T00:03:45-08:00   \n",
       "4525  1965   8th Annual GRAMMY Awards  (1965)  2017-11-28T00:03:45-08:00   \n",
       "4573  1964   7th Annual GRAMMY Awards  (1964)  2017-11-28T00:03:45-08:00   \n",
       "\n",
       "                     updated_at                                   category  \\\n",
       "2261  2019-09-10T01:11:09-07:00         Remixer of the Year, Non-Classical   \n",
       "2359  2019-09-10T01:09:02-07:00         Remixer Of The Year, Non-Classical   \n",
       "2454  2019-09-10T01:08:19-07:00         Remixer Of The Year, Non-classical   \n",
       "2547  2019-09-10T01:07:37-07:00         Remixer Of The Year, Non-Classical   \n",
       "4525  2019-09-10T01:06:59-07:00          Best New Country & Western Artist   \n",
       "4573  2019-09-10T01:06:11-07:00  Best New Country & Western Artist Of 1964   \n",
       "\n",
       "     nominee artist workers  img  winner  \n",
       "2261     NaN    NaN     NaN  NaN    True  \n",
       "2359     NaN    NaN     NaN  NaN    True  \n",
       "2454     NaN    NaN     NaN  NaN    True  \n",
       "2547     NaN    NaN     NaN  NaN    True  \n",
       "4525     NaN    NaN     NaN  NaN    True  \n",
       "4573     NaN    NaN     NaN  NaN    True  "
      ]
     },
     "execution_count": 15,
     "metadata": {},
     "output_type": "execute_result"
    }
   ],
   "source": [
    "df[df['nominee'].isnull()]"
   ]
  },
  {
   "cell_type": "markdown",
   "id": "25dea287",
   "metadata": {},
   "source": [
    "Not entirely sure what this means. Does this mean there was no winner for that specific `category`? Did that `category` even exist? Regardless, can probably just drop these rows during preprocessing."
   ]
  },
  {
   "cell_type": "markdown",
   "id": "bae4c955",
   "metadata": {},
   "source": [
    "## `artist`"
   ]
  },
  {
   "cell_type": "code",
   "execution_count": 16,
   "id": "02f2f5e6",
   "metadata": {},
   "outputs": [
    {
     "data": {
      "text/plain": [
       "(Various Artists)                                          66\n",
       "U2                                                         18\n",
       "Aretha Franklin                                            16\n",
       "Bruce Springsteen                                          13\n",
       "Ella Fitzgerald                                            13\n",
       "                                                           ..\n",
       "Rihanna Featuring Jay-Z                                     1\n",
       "Common Featuring Kanye West                                 1\n",
       "Lupe Fiasco Featuring Jill Scott                            1\n",
       "Gerald Levert                                               1\n",
       "David Seville And The Chipmunks (Ross Bagdasarian, Sr.)     1\n",
       "Name: artist, Length: 1658, dtype: int64"
      ]
     },
     "execution_count": 16,
     "metadata": {},
     "output_type": "execute_result"
    }
   ],
   "source": [
    "# check unique values and their counts\n",
    "df['artist'].value_counts()"
   ]
  },
  {
   "cell_type": "markdown",
   "id": "7b2ad481",
   "metadata": {},
   "source": [
    "Should definitely keep. Can be used for analysis, but most importantly could be useful in aggregation during preprocessing."
   ]
  },
  {
   "cell_type": "code",
   "execution_count": 17,
   "id": "ed3083b7",
   "metadata": {},
   "outputs": [
    {
     "name": "stdout",
     "output_type": "stream",
     "text": [
      "Number of NaN values: 1840\n"
     ]
    }
   ],
   "source": [
    "# check nulls\n",
    "artist_nans = sum(df['artist'].isnull())\n",
    "print(\"Number of NaN values: {}\".format(artist_nans))"
   ]
  },
  {
   "cell_type": "markdown",
   "id": "126a8de4",
   "metadata": {},
   "source": [
    "Compared to the `nominee` column, the `artist` column contains *a lot more* `NaN` values. Taking a closer look at those:"
   ]
  },
  {
   "cell_type": "code",
   "execution_count": 18,
   "id": "478d08fc",
   "metadata": {},
   "outputs": [
    {
     "data": {
      "text/html": [
       "<div>\n",
       "<style scoped>\n",
       "    .dataframe tbody tr th:only-of-type {\n",
       "        vertical-align: middle;\n",
       "    }\n",
       "\n",
       "    .dataframe tbody tr th {\n",
       "        vertical-align: top;\n",
       "    }\n",
       "\n",
       "    .dataframe thead th {\n",
       "        text-align: right;\n",
       "    }\n",
       "</style>\n",
       "<table border=\"1\" class=\"dataframe\">\n",
       "  <thead>\n",
       "    <tr style=\"text-align: right;\">\n",
       "      <th></th>\n",
       "      <th>year</th>\n",
       "      <th>title</th>\n",
       "      <th>published_at</th>\n",
       "      <th>updated_at</th>\n",
       "      <th>category</th>\n",
       "      <th>nominee</th>\n",
       "      <th>artist</th>\n",
       "      <th>workers</th>\n",
       "      <th>img</th>\n",
       "      <th>winner</th>\n",
       "    </tr>\n",
       "  </thead>\n",
       "  <tbody>\n",
       "    <tr>\n",
       "      <th>16</th>\n",
       "      <td>2019</td>\n",
       "      <td>62nd Annual GRAMMY Awards  (2019)</td>\n",
       "      <td>2020-05-19T05:10:28-07:00</td>\n",
       "      <td>2020-05-19T05:10:28-07:00</td>\n",
       "      <td>Song Of The Year</td>\n",
       "      <td>Bad Guy</td>\n",
       "      <td>NaN</td>\n",
       "      <td>Billie Eilish O'Connell &amp; Finneas O'Connell, s...</td>\n",
       "      <td>https://www.grammy.com/sites/com/files/styles/...</td>\n",
       "      <td>True</td>\n",
       "    </tr>\n",
       "    <tr>\n",
       "      <th>17</th>\n",
       "      <td>2019</td>\n",
       "      <td>62nd Annual GRAMMY Awards  (2019)</td>\n",
       "      <td>2020-05-19T05:10:28-07:00</td>\n",
       "      <td>2020-05-19T05:10:28-07:00</td>\n",
       "      <td>Song Of The Year</td>\n",
       "      <td>Always Remember Us This Way</td>\n",
       "      <td>NaN</td>\n",
       "      <td>Natalie Hemby, Lady Gaga, Hillary Lindsey &amp; Lo...</td>\n",
       "      <td>https://www.grammy.com/sites/com/files/styles/...</td>\n",
       "      <td>True</td>\n",
       "    </tr>\n",
       "    <tr>\n",
       "      <th>18</th>\n",
       "      <td>2019</td>\n",
       "      <td>62nd Annual GRAMMY Awards  (2019)</td>\n",
       "      <td>2020-05-19T05:10:28-07:00</td>\n",
       "      <td>2020-05-19T05:10:28-07:00</td>\n",
       "      <td>Song Of The Year</td>\n",
       "      <td>Bring My Flowers Now</td>\n",
       "      <td>NaN</td>\n",
       "      <td>Brandi Carlile, Phil Hanseroth, Tim Hanseroth ...</td>\n",
       "      <td>https://www.grammy.com/sites/com/files/styles/...</td>\n",
       "      <td>True</td>\n",
       "    </tr>\n",
       "    <tr>\n",
       "      <th>19</th>\n",
       "      <td>2019</td>\n",
       "      <td>62nd Annual GRAMMY Awards  (2019)</td>\n",
       "      <td>2020-05-19T05:10:28-07:00</td>\n",
       "      <td>2020-05-19T05:10:28-07:00</td>\n",
       "      <td>Song Of The Year</td>\n",
       "      <td>Hard Place</td>\n",
       "      <td>NaN</td>\n",
       "      <td>Ruby Amanfu, Sam Ashworth, D. Arcelious Harris...</td>\n",
       "      <td>https://www.grammy.com/sites/com/files/styles/...</td>\n",
       "      <td>True</td>\n",
       "    </tr>\n",
       "    <tr>\n",
       "      <th>20</th>\n",
       "      <td>2019</td>\n",
       "      <td>62nd Annual GRAMMY Awards  (2019)</td>\n",
       "      <td>2020-05-19T05:10:28-07:00</td>\n",
       "      <td>2020-05-19T05:10:28-07:00</td>\n",
       "      <td>Song Of The Year</td>\n",
       "      <td>Lover</td>\n",
       "      <td>NaN</td>\n",
       "      <td>Taylor Swift, songwriter (Taylor Swift)</td>\n",
       "      <td>https://www.grammy.com/sites/com/files/styles/...</td>\n",
       "      <td>True</td>\n",
       "    </tr>\n",
       "    <tr>\n",
       "      <th>...</th>\n",
       "      <td>...</td>\n",
       "      <td>...</td>\n",
       "      <td>...</td>\n",
       "      <td>...</td>\n",
       "      <td>...</td>\n",
       "      <td>...</td>\n",
       "      <td>...</td>\n",
       "      <td>...</td>\n",
       "      <td>...</td>\n",
       "      <td>...</td>\n",
       "    </tr>\n",
       "    <tr>\n",
       "      <th>4805</th>\n",
       "      <td>1958</td>\n",
       "      <td>1st Annual GRAMMY Awards  (1958)</td>\n",
       "      <td>2017-11-28T00:03:45-08:00</td>\n",
       "      <td>2019-09-10T01:11:09-07:00</td>\n",
       "      <td>Best Classical Performance - Instrumentalist (...</td>\n",
       "      <td>Tchaikovsky: Piano Concerto No. 1 In B Flat Mi...</td>\n",
       "      <td>NaN</td>\n",
       "      <td>Van Cliburn, artist (Symphony Of The Air Orche...</td>\n",
       "      <td>NaN</td>\n",
       "      <td>True</td>\n",
       "    </tr>\n",
       "    <tr>\n",
       "      <th>4806</th>\n",
       "      <td>1958</td>\n",
       "      <td>1st Annual GRAMMY Awards  (1958)</td>\n",
       "      <td>2017-11-28T00:03:45-08:00</td>\n",
       "      <td>2019-09-10T01:11:09-07:00</td>\n",
       "      <td>Best Classical Performance - Instrumentalist (...</td>\n",
       "      <td>Segovia Golden Jubilee</td>\n",
       "      <td>NaN</td>\n",
       "      <td>Andres Segovia, artist</td>\n",
       "      <td>https://www.grammy.com/sites/com/files/styles/...</td>\n",
       "      <td>True</td>\n",
       "    </tr>\n",
       "    <tr>\n",
       "      <th>4807</th>\n",
       "      <td>1958</td>\n",
       "      <td>1st Annual GRAMMY Awards  (1958)</td>\n",
       "      <td>2017-11-28T00:03:45-08:00</td>\n",
       "      <td>2019-09-10T01:11:09-07:00</td>\n",
       "      <td>Best Classical Performance - Chamber Music (In...</td>\n",
       "      <td>Beethoven: Quartet 130</td>\n",
       "      <td>NaN</td>\n",
       "      <td>Hollywood String Quartet (Alvin Dinkin, Paul S...</td>\n",
       "      <td>NaN</td>\n",
       "      <td>True</td>\n",
       "    </tr>\n",
       "    <tr>\n",
       "      <th>4808</th>\n",
       "      <td>1958</td>\n",
       "      <td>1st Annual GRAMMY Awards  (1958)</td>\n",
       "      <td>2017-11-28T00:03:45-08:00</td>\n",
       "      <td>2019-09-10T01:11:09-07:00</td>\n",
       "      <td>Best Classical Performance - Vocal Soloist (Wi...</td>\n",
       "      <td>Operatic Recital</td>\n",
       "      <td>NaN</td>\n",
       "      <td>NaN</td>\n",
       "      <td>NaN</td>\n",
       "      <td>True</td>\n",
       "    </tr>\n",
       "    <tr>\n",
       "      <th>4809</th>\n",
       "      <td>1958</td>\n",
       "      <td>1st Annual GRAMMY Awards  (1958)</td>\n",
       "      <td>2017-11-28T00:03:45-08:00</td>\n",
       "      <td>2019-09-10T01:11:09-07:00</td>\n",
       "      <td>Best Classical Performance - Operatic Or Choral</td>\n",
       "      <td>Virtuoso</td>\n",
       "      <td>NaN</td>\n",
       "      <td>Roger Wagner, choir director</td>\n",
       "      <td>NaN</td>\n",
       "      <td>True</td>\n",
       "    </tr>\n",
       "  </tbody>\n",
       "</table>\n",
       "<p>1840 rows × 10 columns</p>\n",
       "</div>"
      ],
      "text/plain": [
       "      year                              title               published_at  \\\n",
       "16    2019  62nd Annual GRAMMY Awards  (2019)  2020-05-19T05:10:28-07:00   \n",
       "17    2019  62nd Annual GRAMMY Awards  (2019)  2020-05-19T05:10:28-07:00   \n",
       "18    2019  62nd Annual GRAMMY Awards  (2019)  2020-05-19T05:10:28-07:00   \n",
       "19    2019  62nd Annual GRAMMY Awards  (2019)  2020-05-19T05:10:28-07:00   \n",
       "20    2019  62nd Annual GRAMMY Awards  (2019)  2020-05-19T05:10:28-07:00   \n",
       "...    ...                                ...                        ...   \n",
       "4805  1958   1st Annual GRAMMY Awards  (1958)  2017-11-28T00:03:45-08:00   \n",
       "4806  1958   1st Annual GRAMMY Awards  (1958)  2017-11-28T00:03:45-08:00   \n",
       "4807  1958   1st Annual GRAMMY Awards  (1958)  2017-11-28T00:03:45-08:00   \n",
       "4808  1958   1st Annual GRAMMY Awards  (1958)  2017-11-28T00:03:45-08:00   \n",
       "4809  1958   1st Annual GRAMMY Awards  (1958)  2017-11-28T00:03:45-08:00   \n",
       "\n",
       "                     updated_at  \\\n",
       "16    2020-05-19T05:10:28-07:00   \n",
       "17    2020-05-19T05:10:28-07:00   \n",
       "18    2020-05-19T05:10:28-07:00   \n",
       "19    2020-05-19T05:10:28-07:00   \n",
       "20    2020-05-19T05:10:28-07:00   \n",
       "...                         ...   \n",
       "4805  2019-09-10T01:11:09-07:00   \n",
       "4806  2019-09-10T01:11:09-07:00   \n",
       "4807  2019-09-10T01:11:09-07:00   \n",
       "4808  2019-09-10T01:11:09-07:00   \n",
       "4809  2019-09-10T01:11:09-07:00   \n",
       "\n",
       "                                               category  \\\n",
       "16                                     Song Of The Year   \n",
       "17                                     Song Of The Year   \n",
       "18                                     Song Of The Year   \n",
       "19                                     Song Of The Year   \n",
       "20                                     Song Of The Year   \n",
       "...                                                 ...   \n",
       "4805  Best Classical Performance - Instrumentalist (...   \n",
       "4806  Best Classical Performance - Instrumentalist (...   \n",
       "4807  Best Classical Performance - Chamber Music (In...   \n",
       "4808  Best Classical Performance - Vocal Soloist (Wi...   \n",
       "4809    Best Classical Performance - Operatic Or Choral   \n",
       "\n",
       "                                                nominee artist  \\\n",
       "16                                              Bad Guy    NaN   \n",
       "17                          Always Remember Us This Way    NaN   \n",
       "18                                 Bring My Flowers Now    NaN   \n",
       "19                                           Hard Place    NaN   \n",
       "20                                                Lover    NaN   \n",
       "...                                                 ...    ...   \n",
       "4805  Tchaikovsky: Piano Concerto No. 1 In B Flat Mi...    NaN   \n",
       "4806                             Segovia Golden Jubilee    NaN   \n",
       "4807                             Beethoven: Quartet 130    NaN   \n",
       "4808                                   Operatic Recital    NaN   \n",
       "4809                                           Virtuoso    NaN   \n",
       "\n",
       "                                                workers  \\\n",
       "16    Billie Eilish O'Connell & Finneas O'Connell, s...   \n",
       "17    Natalie Hemby, Lady Gaga, Hillary Lindsey & Lo...   \n",
       "18    Brandi Carlile, Phil Hanseroth, Tim Hanseroth ...   \n",
       "19    Ruby Amanfu, Sam Ashworth, D. Arcelious Harris...   \n",
       "20              Taylor Swift, songwriter (Taylor Swift)   \n",
       "...                                                 ...   \n",
       "4805  Van Cliburn, artist (Symphony Of The Air Orche...   \n",
       "4806                             Andres Segovia, artist   \n",
       "4807  Hollywood String Quartet (Alvin Dinkin, Paul S...   \n",
       "4808                                                NaN   \n",
       "4809                       Roger Wagner, choir director   \n",
       "\n",
       "                                                    img  winner  \n",
       "16    https://www.grammy.com/sites/com/files/styles/...    True  \n",
       "17    https://www.grammy.com/sites/com/files/styles/...    True  \n",
       "18    https://www.grammy.com/sites/com/files/styles/...    True  \n",
       "19    https://www.grammy.com/sites/com/files/styles/...    True  \n",
       "20    https://www.grammy.com/sites/com/files/styles/...    True  \n",
       "...                                                 ...     ...  \n",
       "4805                                                NaN    True  \n",
       "4806  https://www.grammy.com/sites/com/files/styles/...    True  \n",
       "4807                                                NaN    True  \n",
       "4808                                                NaN    True  \n",
       "4809                                                NaN    True  \n",
       "\n",
       "[1840 rows x 10 columns]"
      ]
     },
     "execution_count": 18,
     "metadata": {},
     "output_type": "execute_result"
    }
   ],
   "source": [
    "df[df['artist'].isnull()]"
   ]
  },
  {
   "cell_type": "code",
   "execution_count": 19,
   "id": "695243cb",
   "metadata": {},
   "outputs": [
    {
     "data": {
      "text/html": [
       "<div>\n",
       "<style scoped>\n",
       "    .dataframe tbody tr th:only-of-type {\n",
       "        vertical-align: middle;\n",
       "    }\n",
       "\n",
       "    .dataframe tbody tr th {\n",
       "        vertical-align: top;\n",
       "    }\n",
       "\n",
       "    .dataframe thead th {\n",
       "        text-align: right;\n",
       "    }\n",
       "</style>\n",
       "<table border=\"1\" class=\"dataframe\">\n",
       "  <thead>\n",
       "    <tr style=\"text-align: right;\">\n",
       "      <th></th>\n",
       "      <th>year</th>\n",
       "      <th>title</th>\n",
       "      <th>published_at</th>\n",
       "      <th>updated_at</th>\n",
       "      <th>category</th>\n",
       "      <th>nominee</th>\n",
       "      <th>artist</th>\n",
       "      <th>workers</th>\n",
       "      <th>img</th>\n",
       "      <th>winner</th>\n",
       "    </tr>\n",
       "  </thead>\n",
       "  <tbody>\n",
       "    <tr>\n",
       "      <th>0</th>\n",
       "      <td>2019</td>\n",
       "      <td>62nd Annual GRAMMY Awards  (2019)</td>\n",
       "      <td>2020-05-19T05:10:28-07:00</td>\n",
       "      <td>2020-05-19T05:10:28-07:00</td>\n",
       "      <td>Record Of The Year</td>\n",
       "      <td>Bad Guy</td>\n",
       "      <td>Billie Eilish</td>\n",
       "      <td>Finneas O'Connell, producer; Rob Kinelski &amp; Fi...</td>\n",
       "      <td>https://www.grammy.com/sites/com/files/styles/...</td>\n",
       "      <td>True</td>\n",
       "    </tr>\n",
       "    <tr>\n",
       "      <th>16</th>\n",
       "      <td>2019</td>\n",
       "      <td>62nd Annual GRAMMY Awards  (2019)</td>\n",
       "      <td>2020-05-19T05:10:28-07:00</td>\n",
       "      <td>2020-05-19T05:10:28-07:00</td>\n",
       "      <td>Song Of The Year</td>\n",
       "      <td>Bad Guy</td>\n",
       "      <td>NaN</td>\n",
       "      <td>Billie Eilish O'Connell &amp; Finneas O'Connell, s...</td>\n",
       "      <td>https://www.grammy.com/sites/com/files/styles/...</td>\n",
       "      <td>True</td>\n",
       "    </tr>\n",
       "    <tr>\n",
       "      <th>34</th>\n",
       "      <td>2019</td>\n",
       "      <td>62nd Annual GRAMMY Awards  (2019)</td>\n",
       "      <td>2020-05-19T05:10:28-07:00</td>\n",
       "      <td>2020-05-19T05:10:28-07:00</td>\n",
       "      <td>Best Pop Solo Performance</td>\n",
       "      <td>Bad Guy</td>\n",
       "      <td>Billie Eilish</td>\n",
       "      <td>NaN</td>\n",
       "      <td>https://www.grammy.com/sites/com/files/styles/...</td>\n",
       "      <td>True</td>\n",
       "    </tr>\n",
       "  </tbody>\n",
       "</table>\n",
       "</div>"
      ],
      "text/plain": [
       "    year                              title               published_at  \\\n",
       "0   2019  62nd Annual GRAMMY Awards  (2019)  2020-05-19T05:10:28-07:00   \n",
       "16  2019  62nd Annual GRAMMY Awards  (2019)  2020-05-19T05:10:28-07:00   \n",
       "34  2019  62nd Annual GRAMMY Awards  (2019)  2020-05-19T05:10:28-07:00   \n",
       "\n",
       "                   updated_at                   category  nominee  \\\n",
       "0   2020-05-19T05:10:28-07:00         Record Of The Year  Bad Guy   \n",
       "16  2020-05-19T05:10:28-07:00           Song Of The Year  Bad Guy   \n",
       "34  2020-05-19T05:10:28-07:00  Best Pop Solo Performance  Bad Guy   \n",
       "\n",
       "           artist                                            workers  \\\n",
       "0   Billie Eilish  Finneas O'Connell, producer; Rob Kinelski & Fi...   \n",
       "16            NaN  Billie Eilish O'Connell & Finneas O'Connell, s...   \n",
       "34  Billie Eilish                                                NaN   \n",
       "\n",
       "                                                  img  winner  \n",
       "0   https://www.grammy.com/sites/com/files/styles/...    True  \n",
       "16  https://www.grammy.com/sites/com/files/styles/...    True  \n",
       "34  https://www.grammy.com/sites/com/files/styles/...    True  "
      ]
     },
     "execution_count": 19,
     "metadata": {},
     "output_type": "execute_result"
    }
   ],
   "source": [
    "# Delving into one specific nominee to see why there are NaN values\n",
    "df[df['nominee']=='Bad Guy']"
   ]
  },
  {
   "cell_type": "markdown",
   "id": "fbd5a069",
   "metadata": {},
   "source": [
    "So apparently in the \"Song Of The Year\" `category`, `artist` is NaN but for \"Record Of The Year\", `artist` is filled? From a [google search](https://www.grammy.com/news/whats-difference-grammy-record-year-vs-song-year), arrived at a potential explanation from [grammy.com](https://www.grammy.com/news/whats-difference-grammy-record-year-vs-song-year):"
   ]
  },
  {
   "cell_type": "markdown",
   "id": "91451d5f",
   "metadata": {},
   "source": [
    "<img src=\"images/roty_vs_soty.png\" alt=\"roty vs soty explanation\"/>"
   ]
  },
  {
   "cell_type": "markdown",
   "id": "ce86ad5d",
   "metadata": {},
   "source": [
    "So is it because there was no *single* songwriter for \"Bad Guy\", so `artist` was filled with `NaN`?"
   ]
  },
  {
   "cell_type": "code",
   "execution_count": 20,
   "id": "99e67650",
   "metadata": {},
   "outputs": [
    {
     "name": "stdout",
     "output_type": "stream",
     "text": [
      "Proportion of NaN values: 0.3825\n"
     ]
    }
   ],
   "source": [
    "# Compute proportion of NaNs\n",
    "prop_nans = artist_nans / len(df)\n",
    "print(\"Proportion of NaN values: {:.4f}\".format(prop_nans))"
   ]
  },
  {
   "cell_type": "markdown",
   "id": "b2c30c97",
   "metadata": {},
   "source": [
    "Regardless, from the cell above, the proportion of `NaN` values is quite high, so we can't drop every row where `artist` is `NaN`. Also can't drop the entire column because as mentioned previously, could contain useful information for analysis/aggregation. We could maybe impute it with values from the `worker` column?"
   ]
  },
  {
   "cell_type": "markdown",
   "id": "45f6dda7",
   "metadata": {},
   "source": [
    "## `workers`"
   ]
  },
  {
   "cell_type": "code",
   "execution_count": 21,
   "id": "852f70a4",
   "metadata": {},
   "outputs": [
    {
     "name": "stdout",
     "output_type": "stream",
     "text": [
      "Number of NaN values: 2190\n"
     ]
    }
   ],
   "source": [
    "# Using value_counts() would not be useful here since the column contains a list of names\n",
    "# Just check for nulls instead\n",
    "# check nulls\n",
    "workers_nans = sum(df['workers'].isnull())\n",
    "print(\"Number of NaN values: {}\".format(workers_nans))"
   ]
  },
  {
   "cell_type": "markdown",
   "id": "25e86fc5",
   "metadata": {},
   "source": [
    "May seem to be worse than the `artist` column, but from taking a closer look:"
   ]
  },
  {
   "cell_type": "code",
   "execution_count": 22,
   "id": "6b503797",
   "metadata": {},
   "outputs": [
    {
     "data": {
      "text/html": [
       "<div>\n",
       "<style scoped>\n",
       "    .dataframe tbody tr th:only-of-type {\n",
       "        vertical-align: middle;\n",
       "    }\n",
       "\n",
       "    .dataframe tbody tr th {\n",
       "        vertical-align: top;\n",
       "    }\n",
       "\n",
       "    .dataframe thead th {\n",
       "        text-align: right;\n",
       "    }\n",
       "</style>\n",
       "<table border=\"1\" class=\"dataframe\">\n",
       "  <thead>\n",
       "    <tr style=\"text-align: right;\">\n",
       "      <th></th>\n",
       "      <th>year</th>\n",
       "      <th>title</th>\n",
       "      <th>published_at</th>\n",
       "      <th>updated_at</th>\n",
       "      <th>category</th>\n",
       "      <th>nominee</th>\n",
       "      <th>artist</th>\n",
       "      <th>workers</th>\n",
       "      <th>img</th>\n",
       "      <th>winner</th>\n",
       "    </tr>\n",
       "  </thead>\n",
       "  <tbody>\n",
       "    <tr>\n",
       "      <th>24</th>\n",
       "      <td>2019</td>\n",
       "      <td>62nd Annual GRAMMY Awards  (2019)</td>\n",
       "      <td>2020-05-19T05:10:28-07:00</td>\n",
       "      <td>2020-05-19T05:10:28-07:00</td>\n",
       "      <td>Best New Artist</td>\n",
       "      <td>Billie Eilish</td>\n",
       "      <td>NaN</td>\n",
       "      <td>NaN</td>\n",
       "      <td>NaN</td>\n",
       "      <td>True</td>\n",
       "    </tr>\n",
       "    <tr>\n",
       "      <th>25</th>\n",
       "      <td>2019</td>\n",
       "      <td>62nd Annual GRAMMY Awards  (2019)</td>\n",
       "      <td>2020-05-19T05:10:28-07:00</td>\n",
       "      <td>2020-05-19T05:10:28-07:00</td>\n",
       "      <td>Best New Artist</td>\n",
       "      <td>Black Pumas</td>\n",
       "      <td>NaN</td>\n",
       "      <td>NaN</td>\n",
       "      <td>NaN</td>\n",
       "      <td>True</td>\n",
       "    </tr>\n",
       "    <tr>\n",
       "      <th>26</th>\n",
       "      <td>2019</td>\n",
       "      <td>62nd Annual GRAMMY Awards  (2019)</td>\n",
       "      <td>2020-05-19T05:10:28-07:00</td>\n",
       "      <td>2020-05-19T05:10:28-07:00</td>\n",
       "      <td>Best New Artist</td>\n",
       "      <td>Lil Nas X</td>\n",
       "      <td>NaN</td>\n",
       "      <td>NaN</td>\n",
       "      <td>NaN</td>\n",
       "      <td>True</td>\n",
       "    </tr>\n",
       "    <tr>\n",
       "      <th>27</th>\n",
       "      <td>2019</td>\n",
       "      <td>62nd Annual GRAMMY Awards  (2019)</td>\n",
       "      <td>2020-05-19T05:10:28-07:00</td>\n",
       "      <td>2020-05-19T05:10:28-07:00</td>\n",
       "      <td>Best New Artist</td>\n",
       "      <td>Lizzo</td>\n",
       "      <td>NaN</td>\n",
       "      <td>NaN</td>\n",
       "      <td>NaN</td>\n",
       "      <td>True</td>\n",
       "    </tr>\n",
       "    <tr>\n",
       "      <th>28</th>\n",
       "      <td>2019</td>\n",
       "      <td>62nd Annual GRAMMY Awards  (2019)</td>\n",
       "      <td>2020-05-19T05:10:28-07:00</td>\n",
       "      <td>2020-05-19T05:10:28-07:00</td>\n",
       "      <td>Best New Artist</td>\n",
       "      <td>Maggie Rogers</td>\n",
       "      <td>NaN</td>\n",
       "      <td>NaN</td>\n",
       "      <td>NaN</td>\n",
       "      <td>True</td>\n",
       "    </tr>\n",
       "    <tr>\n",
       "      <th>...</th>\n",
       "      <td>...</td>\n",
       "      <td>...</td>\n",
       "      <td>...</td>\n",
       "      <td>...</td>\n",
       "      <td>...</td>\n",
       "      <td>...</td>\n",
       "      <td>...</td>\n",
       "      <td>...</td>\n",
       "      <td>...</td>\n",
       "      <td>...</td>\n",
       "    </tr>\n",
       "    <tr>\n",
       "      <th>4794</th>\n",
       "      <td>1958</td>\n",
       "      <td>1st Annual GRAMMY Awards  (1958)</td>\n",
       "      <td>2017-11-28T00:03:45-08:00</td>\n",
       "      <td>2019-09-10T01:11:09-07:00</td>\n",
       "      <td>Best Rhythm &amp; Blues Performance</td>\n",
       "      <td>Tequila</td>\n",
       "      <td>The Champs</td>\n",
       "      <td>NaN</td>\n",
       "      <td>https://www.grammy.com/sites/com/files/styles/...</td>\n",
       "      <td>True</td>\n",
       "    </tr>\n",
       "    <tr>\n",
       "      <th>4801</th>\n",
       "      <td>1958</td>\n",
       "      <td>1st Annual GRAMMY Awards  (1958)</td>\n",
       "      <td>2017-11-28T00:03:45-08:00</td>\n",
       "      <td>2019-09-10T01:11:09-07:00</td>\n",
       "      <td>Best Sound Track Album, Dramatic Picture Score...</td>\n",
       "      <td>Gigi</td>\n",
       "      <td>Andre Previn</td>\n",
       "      <td>NaN</td>\n",
       "      <td>https://www.grammy.com/sites/com/files/styles/...</td>\n",
       "      <td>True</td>\n",
       "    </tr>\n",
       "    <tr>\n",
       "      <th>4802</th>\n",
       "      <td>1958</td>\n",
       "      <td>1st Annual GRAMMY Awards  (1958)</td>\n",
       "      <td>2017-11-28T00:03:45-08:00</td>\n",
       "      <td>2019-09-10T01:11:09-07:00</td>\n",
       "      <td>Best Performance, Documentary Or Spoken Word</td>\n",
       "      <td>The Best Of The Stan Freberg Shows</td>\n",
       "      <td>Stan Freberg</td>\n",
       "      <td>NaN</td>\n",
       "      <td>https://www.grammy.com/sites/com/files/styles/...</td>\n",
       "      <td>True</td>\n",
       "    </tr>\n",
       "    <tr>\n",
       "      <th>4803</th>\n",
       "      <td>1958</td>\n",
       "      <td>1st Annual GRAMMY Awards  (1958)</td>\n",
       "      <td>2017-11-28T00:03:45-08:00</td>\n",
       "      <td>2019-09-10T01:11:09-07:00</td>\n",
       "      <td>Best Recording For Children</td>\n",
       "      <td>The Chipmunk Song</td>\n",
       "      <td>David Seville And The Chipmunks (Ross Bagdasar...</td>\n",
       "      <td>NaN</td>\n",
       "      <td>NaN</td>\n",
       "      <td>True</td>\n",
       "    </tr>\n",
       "    <tr>\n",
       "      <th>4808</th>\n",
       "      <td>1958</td>\n",
       "      <td>1st Annual GRAMMY Awards  (1958)</td>\n",
       "      <td>2017-11-28T00:03:45-08:00</td>\n",
       "      <td>2019-09-10T01:11:09-07:00</td>\n",
       "      <td>Best Classical Performance - Vocal Soloist (Wi...</td>\n",
       "      <td>Operatic Recital</td>\n",
       "      <td>NaN</td>\n",
       "      <td>NaN</td>\n",
       "      <td>NaN</td>\n",
       "      <td>True</td>\n",
       "    </tr>\n",
       "  </tbody>\n",
       "</table>\n",
       "<p>2190 rows × 10 columns</p>\n",
       "</div>"
      ],
      "text/plain": [
       "      year                              title               published_at  \\\n",
       "24    2019  62nd Annual GRAMMY Awards  (2019)  2020-05-19T05:10:28-07:00   \n",
       "25    2019  62nd Annual GRAMMY Awards  (2019)  2020-05-19T05:10:28-07:00   \n",
       "26    2019  62nd Annual GRAMMY Awards  (2019)  2020-05-19T05:10:28-07:00   \n",
       "27    2019  62nd Annual GRAMMY Awards  (2019)  2020-05-19T05:10:28-07:00   \n",
       "28    2019  62nd Annual GRAMMY Awards  (2019)  2020-05-19T05:10:28-07:00   \n",
       "...    ...                                ...                        ...   \n",
       "4794  1958   1st Annual GRAMMY Awards  (1958)  2017-11-28T00:03:45-08:00   \n",
       "4801  1958   1st Annual GRAMMY Awards  (1958)  2017-11-28T00:03:45-08:00   \n",
       "4802  1958   1st Annual GRAMMY Awards  (1958)  2017-11-28T00:03:45-08:00   \n",
       "4803  1958   1st Annual GRAMMY Awards  (1958)  2017-11-28T00:03:45-08:00   \n",
       "4808  1958   1st Annual GRAMMY Awards  (1958)  2017-11-28T00:03:45-08:00   \n",
       "\n",
       "                     updated_at  \\\n",
       "24    2020-05-19T05:10:28-07:00   \n",
       "25    2020-05-19T05:10:28-07:00   \n",
       "26    2020-05-19T05:10:28-07:00   \n",
       "27    2020-05-19T05:10:28-07:00   \n",
       "28    2020-05-19T05:10:28-07:00   \n",
       "...                         ...   \n",
       "4794  2019-09-10T01:11:09-07:00   \n",
       "4801  2019-09-10T01:11:09-07:00   \n",
       "4802  2019-09-10T01:11:09-07:00   \n",
       "4803  2019-09-10T01:11:09-07:00   \n",
       "4808  2019-09-10T01:11:09-07:00   \n",
       "\n",
       "                                               category  \\\n",
       "24                                      Best New Artist   \n",
       "25                                      Best New Artist   \n",
       "26                                      Best New Artist   \n",
       "27                                      Best New Artist   \n",
       "28                                      Best New Artist   \n",
       "...                                                 ...   \n",
       "4794                    Best Rhythm & Blues Performance   \n",
       "4801  Best Sound Track Album, Dramatic Picture Score...   \n",
       "4802       Best Performance, Documentary Or Spoken Word   \n",
       "4803                        Best Recording For Children   \n",
       "4808  Best Classical Performance - Vocal Soloist (Wi...   \n",
       "\n",
       "                                 nominee  \\\n",
       "24                         Billie Eilish   \n",
       "25                           Black Pumas   \n",
       "26                             Lil Nas X   \n",
       "27                                 Lizzo   \n",
       "28                         Maggie Rogers   \n",
       "...                                  ...   \n",
       "4794                             Tequila   \n",
       "4801                                Gigi   \n",
       "4802  The Best Of The Stan Freberg Shows   \n",
       "4803                   The Chipmunk Song   \n",
       "4808                    Operatic Recital   \n",
       "\n",
       "                                                 artist workers  \\\n",
       "24                                                  NaN     NaN   \n",
       "25                                                  NaN     NaN   \n",
       "26                                                  NaN     NaN   \n",
       "27                                                  NaN     NaN   \n",
       "28                                                  NaN     NaN   \n",
       "...                                                 ...     ...   \n",
       "4794                                         The Champs     NaN   \n",
       "4801                                       Andre Previn     NaN   \n",
       "4802                                       Stan Freberg     NaN   \n",
       "4803  David Seville And The Chipmunks (Ross Bagdasar...     NaN   \n",
       "4808                                                NaN     NaN   \n",
       "\n",
       "                                                    img  winner  \n",
       "24                                                  NaN    True  \n",
       "25                                                  NaN    True  \n",
       "26                                                  NaN    True  \n",
       "27                                                  NaN    True  \n",
       "28                                                  NaN    True  \n",
       "...                                                 ...     ...  \n",
       "4794  https://www.grammy.com/sites/com/files/styles/...    True  \n",
       "4801  https://www.grammy.com/sites/com/files/styles/...    True  \n",
       "4802  https://www.grammy.com/sites/com/files/styles/...    True  \n",
       "4803                                                NaN    True  \n",
       "4808                                                NaN    True  \n",
       "\n",
       "[2190 rows x 10 columns]"
      ]
     },
     "execution_count": 22,
     "metadata": {},
     "output_type": "execute_result"
    }
   ],
   "source": [
    "df[df['workers'].isnull()]"
   ]
  },
  {
   "cell_type": "markdown",
   "id": "617c3182",
   "metadata": {},
   "source": [
    "The plethora of `NaN`s make sense since not every single `category` contains a set of `workers`; for example the \"Brand New Artist\" `category` would have no `workers` since it's just a single person being nominated (which in this case is the `nominee`).\n",
    "\n",
    "Column could still be kept. We can use regex to split and extract the *number* of workers. Could be a useful feature during analysis."
   ]
  },
  {
   "cell_type": "markdown",
   "id": "ce5d7146",
   "metadata": {},
   "source": [
    "## `img`\n",
    "From a quick peruse, the `img` column seems to be useless. From taking a closer look:"
   ]
  },
  {
   "cell_type": "code",
   "execution_count": 23,
   "id": "d7768a5c",
   "metadata": {},
   "outputs": [
    {
     "data": {
      "text/plain": [
       "0       https://www.grammy.com/sites/com/files/styles/...\n",
       "1       https://www.grammy.com/sites/com/files/styles/...\n",
       "2       https://www.grammy.com/sites/com/files/styles/...\n",
       "3       https://www.grammy.com/sites/com/files/styles/...\n",
       "4       https://www.grammy.com/sites/com/files/styles/...\n",
       "                              ...                        \n",
       "4805                                                  NaN\n",
       "4806    https://www.grammy.com/sites/com/files/styles/...\n",
       "4807                                                  NaN\n",
       "4808                                                  NaN\n",
       "4809                                                  NaN\n",
       "Name: img, Length: 4810, dtype: object"
      ]
     },
     "execution_count": 23,
     "metadata": {},
     "output_type": "execute_result"
    }
   ],
   "source": [
    "df['img']"
   ]
  },
  {
   "cell_type": "markdown",
   "id": "968af3c1",
   "metadata": {},
   "source": [
    "All the links seems to just redirect to [grammy.com](grammy.com). Below is a screenshot of the current site:"
   ]
  },
  {
   "cell_type": "markdown",
   "id": "4d3317e6",
   "metadata": {},
   "source": [
    "<img src=\"images/img_redirect.png\" alt=\"img link image\"/>"
   ]
  },
  {
   "cell_type": "markdown",
   "id": "726226b3",
   "metadata": {},
   "source": [
    "Can probably just drop the `img` column."
   ]
  },
  {
   "cell_type": "markdown",
   "id": "fd36db09",
   "metadata": {},
   "source": [
    "## `winner`"
   ]
  },
  {
   "cell_type": "code",
   "execution_count": 24,
   "id": "4810e6df",
   "metadata": {},
   "outputs": [
    {
     "data": {
      "text/plain": [
       "True    4810\n",
       "Name: winner, dtype: int64"
      ]
     },
     "execution_count": 24,
     "metadata": {},
     "output_type": "execute_result"
    }
   ],
   "source": [
    "df['winner'].value_counts()"
   ]
  },
  {
   "cell_type": "markdown",
   "id": "c44ab187",
   "metadata": {},
   "source": [
    "Dataset only contains grammy winners... Completely useless column unless combined with another data set.\n",
    "\n",
    "Supplemental data sets are going to be needed (e.g. Data sets with all nominees)"
   ]
  },
  {
   "cell_type": "markdown",
   "id": "d80aeda5",
   "metadata": {},
   "source": [
    "# UPDATE 11/22\n",
    "New data set found including not just winners in `the_grammy_awards.csv`"
   ]
  },
  {
   "cell_type": "code",
   "execution_count": 25,
   "id": "416feaea",
   "metadata": {
    "scrolled": true
   },
   "outputs": [
    {
     "data": {
      "text/html": [
       "<div>\n",
       "<style scoped>\n",
       "    .dataframe tbody tr th:only-of-type {\n",
       "        vertical-align: middle;\n",
       "    }\n",
       "\n",
       "    .dataframe tbody tr th {\n",
       "        vertical-align: top;\n",
       "    }\n",
       "\n",
       "    .dataframe thead th {\n",
       "        text-align: right;\n",
       "    }\n",
       "</style>\n",
       "<table border=\"1\" class=\"dataframe\">\n",
       "  <thead>\n",
       "    <tr style=\"text-align: right;\">\n",
       "      <th></th>\n",
       "      <th>year</th>\n",
       "      <th>category</th>\n",
       "      <th>nominee</th>\n",
       "      <th>workers</th>\n",
       "      <th>winner</th>\n",
       "    </tr>\n",
       "  </thead>\n",
       "  <tbody>\n",
       "    <tr>\n",
       "      <th>0</th>\n",
       "      <td>1959</td>\n",
       "      <td>Album of the Year</td>\n",
       "      <td>The Music from Peter Gunn.</td>\n",
       "      <td>Henry Mancini</td>\n",
       "      <td>True</td>\n",
       "    </tr>\n",
       "    <tr>\n",
       "      <th>1</th>\n",
       "      <td>1959</td>\n",
       "      <td>Best Album Cover</td>\n",
       "      <td>Only the Lonely</td>\n",
       "      <td>Frank Sinatra (art director)</td>\n",
       "      <td>True</td>\n",
       "    </tr>\n",
       "    <tr>\n",
       "      <th>2</th>\n",
       "      <td>1959</td>\n",
       "      <td>Best Arrangement</td>\n",
       "      <td>The Music From Peter Gunn</td>\n",
       "      <td>Henry Mancini (artist/arranger)</td>\n",
       "      <td>True</td>\n",
       "    </tr>\n",
       "    <tr>\n",
       "      <th>3</th>\n",
       "      <td>1959</td>\n",
       "      <td>Best Classical Performance - Chamber Music (in...</td>\n",
       "      <td>Beethoven: Quartet 130</td>\n",
       "      <td>The Hollywood String Quartet, Paul Shure (arti...</td>\n",
       "      <td>True</td>\n",
       "    </tr>\n",
       "    <tr>\n",
       "      <th>4</th>\n",
       "      <td>1959</td>\n",
       "      <td>Best Classical Performance - Instrumentalist (...</td>\n",
       "      <td>Segovia Golden Jubilee</td>\n",
       "      <td>Andrés Segovia</td>\n",
       "      <td>True</td>\n",
       "    </tr>\n",
       "    <tr>\n",
       "      <th>...</th>\n",
       "      <td>...</td>\n",
       "      <td>...</td>\n",
       "      <td>...</td>\n",
       "      <td>...</td>\n",
       "      <td>...</td>\n",
       "    </tr>\n",
       "    <tr>\n",
       "      <th>6318</th>\n",
       "      <td>2019</td>\n",
       "      <td>Record of the Year</td>\n",
       "      <td>Rockstar</td>\n",
       "      <td>Post Malone (artist), 21 Savage (artist), Loui...</td>\n",
       "      <td>False</td>\n",
       "    </tr>\n",
       "    <tr>\n",
       "      <th>6319</th>\n",
       "      <td>2019</td>\n",
       "      <td>Song of the Year</td>\n",
       "      <td>This is America (Childish Gambino)</td>\n",
       "      <td>Ludwig Göransson (songwriter), Young Thug (son...</td>\n",
       "      <td>True</td>\n",
       "    </tr>\n",
       "    <tr>\n",
       "      <th>6320</th>\n",
       "      <td>2019</td>\n",
       "      <td>Song of the Year</td>\n",
       "      <td>The Joke (Brandi Carlile)</td>\n",
       "      <td>Brandi Carlile (songwriter), Dave Cobb (songwr...</td>\n",
       "      <td>False</td>\n",
       "    </tr>\n",
       "    <tr>\n",
       "      <th>6321</th>\n",
       "      <td>2019</td>\n",
       "      <td>Song of the Year</td>\n",
       "      <td>Boo'd Up (Ella Mai)</td>\n",
       "      <td>Ella Mai (songwriter), Larrance Dopson (songwr...</td>\n",
       "      <td>False</td>\n",
       "    </tr>\n",
       "    <tr>\n",
       "      <th>6322</th>\n",
       "      <td>2019</td>\n",
       "      <td>Song of the Year</td>\n",
       "      <td>In My Blood (Shawn Mendes)</td>\n",
       "      <td>Shawn Mendes (songwriter), Teddy Geiger (songw...</td>\n",
       "      <td>False</td>\n",
       "    </tr>\n",
       "  </tbody>\n",
       "</table>\n",
       "<p>6323 rows × 5 columns</p>\n",
       "</div>"
      ],
      "text/plain": [
       "      year                                           category  \\\n",
       "0     1959                                  Album of the Year   \n",
       "1     1959                                   Best Album Cover   \n",
       "2     1959                                   Best Arrangement   \n",
       "3     1959  Best Classical Performance - Chamber Music (in...   \n",
       "4     1959  Best Classical Performance - Instrumentalist (...   \n",
       "...    ...                                                ...   \n",
       "6318  2019                                 Record of the Year   \n",
       "6319  2019                                   Song of the Year   \n",
       "6320  2019                                   Song of the Year   \n",
       "6321  2019                                   Song of the Year   \n",
       "6322  2019                                   Song of the Year   \n",
       "\n",
       "                                 nominee  \\\n",
       "0             The Music from Peter Gunn.   \n",
       "1                        Only the Lonely   \n",
       "2              The Music From Peter Gunn   \n",
       "3                 Beethoven: Quartet 130   \n",
       "4                 Segovia Golden Jubilee   \n",
       "...                                  ...   \n",
       "6318                            Rockstar   \n",
       "6319  This is America (Childish Gambino)   \n",
       "6320           The Joke (Brandi Carlile)   \n",
       "6321                 Boo'd Up (Ella Mai)   \n",
       "6322          In My Blood (Shawn Mendes)   \n",
       "\n",
       "                                                workers  winner  \n",
       "0                                         Henry Mancini    True  \n",
       "1                          Frank Sinatra (art director)    True  \n",
       "2                       Henry Mancini (artist/arranger)    True  \n",
       "3     The Hollywood String Quartet, Paul Shure (arti...    True  \n",
       "4                                        Andrés Segovia    True  \n",
       "...                                                 ...     ...  \n",
       "6318  Post Malone (artist), 21 Savage (artist), Loui...   False  \n",
       "6319  Ludwig Göransson (songwriter), Young Thug (son...    True  \n",
       "6320  Brandi Carlile (songwriter), Dave Cobb (songwr...   False  \n",
       "6321  Ella Mai (songwriter), Larrance Dopson (songwr...   False  \n",
       "6322  Shawn Mendes (songwriter), Teddy Geiger (songw...   False  \n",
       "\n",
       "[6323 rows x 5 columns]"
      ]
     },
     "execution_count": 25,
     "metadata": {},
     "output_type": "execute_result"
    }
   ],
   "source": [
    "df2 = pd.read_csv('the_grammy_awards.csv')\n",
    "df2"
   ]
  },
  {
   "cell_type": "code",
   "execution_count": 42,
   "id": "233b340a",
   "metadata": {},
   "outputs": [],
   "source": [
    "#Import scikit-learn dataset library\n",
    "from sklearn import datasets\n",
    "data = df2\n",
    "\n",
    "# Import train_test_split function\n",
    "from sklearn.model_selection import train_test_split\n",
    "\n",
    "X=data[['category', 'year', 'workers']]  # Features\n",
    "y=data['winner']  # Labels\n",
    "\n",
    "# Split dataset into training set and test set\n",
    "X_train, X_test, y_train, y_test = train_test_split(X, y, test_size=0.3) # 70% training and 30% test"
   ]
  },
  {
   "cell_type": "code",
   "execution_count": 41,
   "id": "56db7de8",
   "metadata": {},
   "outputs": [
    {
     "ename": "ValueError",
     "evalue": "could not convert string to float: 'Album of the Year'",
     "output_type": "error",
     "traceback": [
      "\u001b[0;31m---------------------------------------------------------------------------\u001b[0m",
      "\u001b[0;31mValueError\u001b[0m                                Traceback (most recent call last)",
      "Cell \u001b[0;32mIn [41], line 7\u001b[0m\n\u001b[1;32m      5\u001b[0m Y \u001b[38;5;241m=\u001b[39m data\u001b[38;5;241m.\u001b[39miloc[:, \u001b[38;5;241m1\u001b[39m]\u001b[38;5;241m.\u001b[39mvalues\u001b[38;5;241m.\u001b[39mreshape(\u001b[38;5;241m-\u001b[39m\u001b[38;5;241m1\u001b[39m, \u001b[38;5;241m1\u001b[39m)  \u001b[38;5;66;03m# -1 means that calculate the dimension of rows, but have 1 column\u001b[39;00m\n\u001b[1;32m      6\u001b[0m linear_regressor \u001b[38;5;241m=\u001b[39m LinearRegression()  \u001b[38;5;66;03m# create object for the class\u001b[39;00m\n\u001b[0;32m----> 7\u001b[0m \u001b[43mlinear_regressor\u001b[49m\u001b[38;5;241;43m.\u001b[39;49m\u001b[43mfit\u001b[49m\u001b[43m(\u001b[49m\u001b[43mX\u001b[49m\u001b[43m,\u001b[49m\u001b[43m \u001b[49m\u001b[43mY\u001b[49m\u001b[43m)\u001b[49m  \u001b[38;5;66;03m# perform linear regression\u001b[39;00m\n\u001b[1;32m      8\u001b[0m Y_pred \u001b[38;5;241m=\u001b[39m linear_regressor\u001b[38;5;241m.\u001b[39mpredict(X)  \u001b[38;5;66;03m# make predictions\u001b[39;00m\n",
      "File \u001b[0;32m/opt/conda/lib/python3.9/site-packages/sklearn/linear_model/_base.py:684\u001b[0m, in \u001b[0;36mLinearRegression.fit\u001b[0;34m(self, X, y, sample_weight)\u001b[0m\n\u001b[1;32m    680\u001b[0m n_jobs_ \u001b[38;5;241m=\u001b[39m \u001b[38;5;28mself\u001b[39m\u001b[38;5;241m.\u001b[39mn_jobs\n\u001b[1;32m    682\u001b[0m accept_sparse \u001b[38;5;241m=\u001b[39m \u001b[38;5;28;01mFalse\u001b[39;00m \u001b[38;5;28;01mif\u001b[39;00m \u001b[38;5;28mself\u001b[39m\u001b[38;5;241m.\u001b[39mpositive \u001b[38;5;28;01melse\u001b[39;00m [\u001b[38;5;124m\"\u001b[39m\u001b[38;5;124mcsr\u001b[39m\u001b[38;5;124m\"\u001b[39m, \u001b[38;5;124m\"\u001b[39m\u001b[38;5;124mcsc\u001b[39m\u001b[38;5;124m\"\u001b[39m, \u001b[38;5;124m\"\u001b[39m\u001b[38;5;124mcoo\u001b[39m\u001b[38;5;124m\"\u001b[39m]\n\u001b[0;32m--> 684\u001b[0m X, y \u001b[38;5;241m=\u001b[39m \u001b[38;5;28;43mself\u001b[39;49m\u001b[38;5;241;43m.\u001b[39;49m\u001b[43m_validate_data\u001b[49m\u001b[43m(\u001b[49m\n\u001b[1;32m    685\u001b[0m \u001b[43m    \u001b[49m\u001b[43mX\u001b[49m\u001b[43m,\u001b[49m\u001b[43m \u001b[49m\u001b[43my\u001b[49m\u001b[43m,\u001b[49m\u001b[43m \u001b[49m\u001b[43maccept_sparse\u001b[49m\u001b[38;5;241;43m=\u001b[39;49m\u001b[43maccept_sparse\u001b[49m\u001b[43m,\u001b[49m\u001b[43m \u001b[49m\u001b[43my_numeric\u001b[49m\u001b[38;5;241;43m=\u001b[39;49m\u001b[38;5;28;43;01mTrue\u001b[39;49;00m\u001b[43m,\u001b[49m\u001b[43m \u001b[49m\u001b[43mmulti_output\u001b[49m\u001b[38;5;241;43m=\u001b[39;49m\u001b[38;5;28;43;01mTrue\u001b[39;49;00m\n\u001b[1;32m    686\u001b[0m \u001b[43m\u001b[49m\u001b[43m)\u001b[49m\n\u001b[1;32m    688\u001b[0m sample_weight \u001b[38;5;241m=\u001b[39m _check_sample_weight(\n\u001b[1;32m    689\u001b[0m     sample_weight, X, dtype\u001b[38;5;241m=\u001b[39mX\u001b[38;5;241m.\u001b[39mdtype, only_non_negative\u001b[38;5;241m=\u001b[39m\u001b[38;5;28;01mTrue\u001b[39;00m\n\u001b[1;32m    690\u001b[0m )\n\u001b[1;32m    692\u001b[0m X, y, X_offset, y_offset, X_scale \u001b[38;5;241m=\u001b[39m _preprocess_data(\n\u001b[1;32m    693\u001b[0m     X,\n\u001b[1;32m    694\u001b[0m     y,\n\u001b[0;32m   (...)\u001b[0m\n\u001b[1;32m    698\u001b[0m     sample_weight\u001b[38;5;241m=\u001b[39msample_weight,\n\u001b[1;32m    699\u001b[0m )\n",
      "File \u001b[0;32m/opt/conda/lib/python3.9/site-packages/sklearn/base.py:596\u001b[0m, in \u001b[0;36mBaseEstimator._validate_data\u001b[0;34m(self, X, y, reset, validate_separately, **check_params)\u001b[0m\n\u001b[1;32m    594\u001b[0m         y \u001b[38;5;241m=\u001b[39m check_array(y, input_name\u001b[38;5;241m=\u001b[39m\u001b[38;5;124m\"\u001b[39m\u001b[38;5;124my\u001b[39m\u001b[38;5;124m\"\u001b[39m, \u001b[38;5;241m*\u001b[39m\u001b[38;5;241m*\u001b[39mcheck_y_params)\n\u001b[1;32m    595\u001b[0m     \u001b[38;5;28;01melse\u001b[39;00m:\n\u001b[0;32m--> 596\u001b[0m         X, y \u001b[38;5;241m=\u001b[39m \u001b[43mcheck_X_y\u001b[49m\u001b[43m(\u001b[49m\u001b[43mX\u001b[49m\u001b[43m,\u001b[49m\u001b[43m \u001b[49m\u001b[43my\u001b[49m\u001b[43m,\u001b[49m\u001b[43m \u001b[49m\u001b[38;5;241;43m*\u001b[39;49m\u001b[38;5;241;43m*\u001b[39;49m\u001b[43mcheck_params\u001b[49m\u001b[43m)\u001b[49m\n\u001b[1;32m    597\u001b[0m     out \u001b[38;5;241m=\u001b[39m X, y\n\u001b[1;32m    599\u001b[0m \u001b[38;5;28;01mif\u001b[39;00m \u001b[38;5;129;01mnot\u001b[39;00m no_val_X \u001b[38;5;129;01mand\u001b[39;00m check_params\u001b[38;5;241m.\u001b[39mget(\u001b[38;5;124m\"\u001b[39m\u001b[38;5;124mensure_2d\u001b[39m\u001b[38;5;124m\"\u001b[39m, \u001b[38;5;28;01mTrue\u001b[39;00m):\n",
      "File \u001b[0;32m/opt/conda/lib/python3.9/site-packages/sklearn/utils/validation.py:1090\u001b[0m, in \u001b[0;36mcheck_X_y\u001b[0;34m(X, y, accept_sparse, accept_large_sparse, dtype, order, copy, force_all_finite, ensure_2d, allow_nd, multi_output, ensure_min_samples, ensure_min_features, y_numeric, estimator)\u001b[0m\n\u001b[1;32m   1070\u001b[0m     \u001b[38;5;28;01mraise\u001b[39;00m \u001b[38;5;167;01mValueError\u001b[39;00m(\n\u001b[1;32m   1071\u001b[0m         \u001b[38;5;124mf\u001b[39m\u001b[38;5;124m\"\u001b[39m\u001b[38;5;132;01m{\u001b[39;00mestimator_name\u001b[38;5;132;01m}\u001b[39;00m\u001b[38;5;124m requires y to be passed, but the target y is None\u001b[39m\u001b[38;5;124m\"\u001b[39m\n\u001b[1;32m   1072\u001b[0m     )\n\u001b[1;32m   1074\u001b[0m X \u001b[38;5;241m=\u001b[39m check_array(\n\u001b[1;32m   1075\u001b[0m     X,\n\u001b[1;32m   1076\u001b[0m     accept_sparse\u001b[38;5;241m=\u001b[39maccept_sparse,\n\u001b[0;32m   (...)\u001b[0m\n\u001b[1;32m   1087\u001b[0m     input_name\u001b[38;5;241m=\u001b[39m\u001b[38;5;124m\"\u001b[39m\u001b[38;5;124mX\u001b[39m\u001b[38;5;124m\"\u001b[39m,\n\u001b[1;32m   1088\u001b[0m )\n\u001b[0;32m-> 1090\u001b[0m y \u001b[38;5;241m=\u001b[39m \u001b[43m_check_y\u001b[49m\u001b[43m(\u001b[49m\u001b[43my\u001b[49m\u001b[43m,\u001b[49m\u001b[43m \u001b[49m\u001b[43mmulti_output\u001b[49m\u001b[38;5;241;43m=\u001b[39;49m\u001b[43mmulti_output\u001b[49m\u001b[43m,\u001b[49m\u001b[43m \u001b[49m\u001b[43my_numeric\u001b[49m\u001b[38;5;241;43m=\u001b[39;49m\u001b[43my_numeric\u001b[49m\u001b[43m,\u001b[49m\u001b[43m \u001b[49m\u001b[43mestimator\u001b[49m\u001b[38;5;241;43m=\u001b[39;49m\u001b[43mestimator\u001b[49m\u001b[43m)\u001b[49m\n\u001b[1;32m   1092\u001b[0m check_consistent_length(X, y)\n\u001b[1;32m   1094\u001b[0m \u001b[38;5;28;01mreturn\u001b[39;00m X, y\n",
      "File \u001b[0;32m/opt/conda/lib/python3.9/site-packages/sklearn/utils/validation.py:1115\u001b[0m, in \u001b[0;36m_check_y\u001b[0;34m(y, multi_output, y_numeric, estimator)\u001b[0m\n\u001b[1;32m   1113\u001b[0m     _ensure_no_complex_data(y)\n\u001b[1;32m   1114\u001b[0m \u001b[38;5;28;01mif\u001b[39;00m y_numeric \u001b[38;5;129;01mand\u001b[39;00m y\u001b[38;5;241m.\u001b[39mdtype\u001b[38;5;241m.\u001b[39mkind \u001b[38;5;241m==\u001b[39m \u001b[38;5;124m\"\u001b[39m\u001b[38;5;124mO\u001b[39m\u001b[38;5;124m\"\u001b[39m:\n\u001b[0;32m-> 1115\u001b[0m     y \u001b[38;5;241m=\u001b[39m \u001b[43my\u001b[49m\u001b[38;5;241;43m.\u001b[39;49m\u001b[43mastype\u001b[49m\u001b[43m(\u001b[49m\u001b[43mnp\u001b[49m\u001b[38;5;241;43m.\u001b[39;49m\u001b[43mfloat64\u001b[49m\u001b[43m)\u001b[49m\n\u001b[1;32m   1117\u001b[0m \u001b[38;5;28;01mreturn\u001b[39;00m y\n",
      "\u001b[0;31mValueError\u001b[0m: could not convert string to float: 'Album of the Year'"
     ]
    }
   ],
   "source": [
    "from sklearn.linear_model import LinearRegression\n",
    "\n",
    "data = df2[['winner','category']]  # load data set\n",
    "X = data.iloc[:, 0].values.reshape(-1, 1)  # values converts it into a numpy array\n",
    "Y = data.iloc[:, 1].values.reshape(-1, 1)  # -1 means that calculate the dimension of rows, but have 1 column\n",
    "linear_regressor = LinearRegression()  # create object for the class\n",
    "linear_regressor.fit(X, Y)  # perform linear regression\n",
    "Y_pred = linear_regressor.predict(X)  # make predictions"
   ]
  },
  {
   "cell_type": "code",
   "execution_count": 36,
   "id": "df810fbb",
   "metadata": {},
   "outputs": [
    {
     "ename": "NameError",
     "evalue": "name 'y_pred' is not defined",
     "output_type": "error",
     "traceback": [
      "\u001b[0;31m---------------------------------------------------------------------------\u001b[0m",
      "\u001b[0;31mNameError\u001b[0m                                 Traceback (most recent call last)",
      "Cell \u001b[0;32mIn [36], line 4\u001b[0m\n\u001b[1;32m      2\u001b[0m \u001b[38;5;28;01mfrom\u001b[39;00m \u001b[38;5;21;01msklearn\u001b[39;00m \u001b[38;5;28;01mimport\u001b[39;00m metrics\n\u001b[1;32m      3\u001b[0m \u001b[38;5;66;03m# Model Accuracy, how often is the classifier correct?\u001b[39;00m\n\u001b[0;32m----> 4\u001b[0m \u001b[38;5;28mprint\u001b[39m(\u001b[38;5;124m\"\u001b[39m\u001b[38;5;124mAccuracy:\u001b[39m\u001b[38;5;124m\"\u001b[39m, metrics\u001b[38;5;241m.\u001b[39maccuracy_score(y_test, \u001b[43my_pred\u001b[49m))\n\u001b[1;32m      6\u001b[0m \u001b[38;5;28mprint\u001b[39m(\u001b[38;5;124m'\u001b[39m\u001b[38;5;124mAccuracy with descriptive labels is Accuracy: 0.001349527665317139\u001b[39m\u001b[38;5;124m'\u001b[39m)\n",
      "\u001b[0;31mNameError\u001b[0m: name 'y_pred' is not defined"
     ]
    }
   ],
   "source": [
    "#Import scikit-learn metrics module for accuracy calculation\n",
    "from sklearn import metrics\n",
    "# Model Accuracy, how often is the classifier correct?\n",
    "print(\"Accuracy:\", metrics.accuracy_score(y_test, y_pred))\n",
    "\n",
    "print('Accuracy with descriptive labels is Accuracy: 0.001349527665317139')"
   ]
  },
  {
   "cell_type": "code",
   "execution_count": null,
   "id": "e9159ebf",
   "metadata": {},
   "outputs": [],
   "source": [
    "url = 'https://datahub.berkeley.edu/user/nishkachotai/edit/the_grammy_awards.csv'\n",
    "df_cleaned = pd.read_csv(url)"
   ]
  },
  {
   "cell_type": "code",
   "execution_count": null,
   "id": "15e24dbb",
   "metadata": {},
   "outputs": [],
   "source": [
    "#Import scikit-learn dataset library\n",
    "from sklearn import datasets\n",
    "data = df_cleaned\n",
    "\n",
    "# Import train_test_split function\n",
    "from sklearn.model_selection import train_test_split\n",
    "\n",
    "X=data[['duration', 'languages','comments', 'month', 'num_speaker']]  # Features\n",
    "y=data['views']  # Labels\n",
    "\n",
    "# Split dataset into training set and test set\n",
    "X_train, X_test, y_train, y_test = train_test_split(X, y, test_size=0.3) # 70% training and 30% test"
   ]
  },
  {
   "cell_type": "code",
   "execution_count": null,
   "id": "3f6a4c88",
   "metadata": {},
   "outputs": [],
   "source": [
    "#Import scikit-learn metrics module for accuracy calculation\n",
    "from sklearn import metrics\n",
    "# Model Accuracy, how often is the classifier correct?\n",
    "# print(\"Accuracy:\",metrics.accuracy_score(y_test, y_pred))\n",
    "\n",
    "print('Accuracy without descriptive labels is Accuracy: 0.005398110661268556')"
   ]
  },
  {
   "cell_type": "code",
   "execution_count": null,
   "id": "067fed3f",
   "metadata": {},
   "outputs": [],
   "source": [
    "# Now you can predict approximate how many views it is.\n",
    "# helpful link: https://www.datacamp.com/community/tutorials/random-forests-classifier-python\n",
    "from sklearn.ensemble import RandomForestClassifier\n",
    "\n",
    "#Create a Gaussian Classifier\n",
    "clf=RandomForestClassifier(n_estimators=100)\n",
    "\n",
    "#Train the model using the training sets y_pred=clf.predict(X_test)\n",
    "clf.fit(X_train,y_train)"
   ]
  },
  {
   "cell_type": "code",
   "execution_count": null,
   "id": "9f6849e3",
   "metadata": {},
   "outputs": [],
   "source": []
  },
  {
   "cell_type": "code",
   "execution_count": null,
   "id": "f7685f3b",
   "metadata": {},
   "outputs": [],
   "source": []
  }
 ],
 "metadata": {
  "kernelspec": {
   "display_name": "Python 3 (ipykernel)",
   "language": "python",
   "name": "python3"
  },
  "language_info": {
   "codemirror_mode": {
    "name": "ipython",
    "version": 3
   },
   "file_extension": ".py",
   "mimetype": "text/x-python",
   "name": "python",
   "nbconvert_exporter": "python",
   "pygments_lexer": "ipython3",
   "version": "3.9.13"
  }
 },
 "nbformat": 4,
 "nbformat_minor": 5
}
